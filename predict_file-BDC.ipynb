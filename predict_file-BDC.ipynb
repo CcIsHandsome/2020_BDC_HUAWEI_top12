{
 "cells": [
  {
   "cell_type": "code",
   "execution_count": 2,
   "metadata": {
    "ExecuteTime": {
     "end_time": "2020-08-11T10:58:58.723980Z",
     "start_time": "2020-08-11T10:58:58.717991Z"
    }
   },
   "outputs": [],
   "source": [
    "import warnings\n",
    "import gc\n",
    "from math import radians,asin\n",
    "from sklearn.metrics import mean_squared_error,explained_variance_score,mean_absolute_error\n",
    "from sklearn.model_selection import KFold\n",
    "import lightgbm as lgb\n",
    "import seaborn\n",
    "from tqdm import tqdm_notebook as tqdm\n",
    "import numpy as np\n",
    "import math\n",
    "import os\n",
    "import time\n",
    "import json\n",
    "import joblib\n",
    "import pandas as pd\n",
    "\n",
    "warnings.filterwarnings('ignore')"
   ]
  },
  {
   "cell_type": "markdown",
   "metadata": {},
   "source": [
    "# model"
   ]
  },
  {
   "cell_type": "code",
   "execution_count": 3,
   "metadata": {
    "ExecuteTime": {
     "end_time": "2020-08-11T10:58:58.835006Z",
     "start_time": "2020-08-11T10:58:58.725981Z"
    }
   },
   "outputs": [],
   "source": [
    "test_B=pd.read_csv('./input/test_B.csv')\n",
    "sub=test_B[['loadingOrder','timestamp','longitude', 'latitude', 'carrierName','vesselMMSI','onboardDate']]"
   ]
  },
  {
   "cell_type": "code",
   "execution_count": 4,
   "metadata": {
    "ExecuteTime": {
     "end_time": "2020-08-11T10:58:58.887018Z",
     "start_time": "2020-08-11T10:58:58.837006Z"
    }
   },
   "outputs": [],
   "source": [
    "test_file=pd.read_pickle('./input/test_B_features_7-19.pkl')\n",
    "test_file=test_file.sort_values(['loadingOrder','timestamp'])\n",
    "test_file['timestamp']=pd.to_datetime(test_file['timestamp'])\n",
    "test_file=test_file.groupby(['loadingOrder']).tail(1)\n",
    "test_file_time=test_file.timestamp\n",
    "test_file_id=test_file.loadingOrder\n",
    "test_file=test_file.drop(columns=['loadingOrder','timestamp', 'onboardDate'])"
   ]
  },
  {
   "cell_type": "code",
   "execution_count": 5,
   "metadata": {
    "ExecuteTime": {
     "end_time": "2020-08-11T10:58:58.892020Z",
     "start_time": "2020-08-11T10:58:58.889018Z"
    }
   },
   "outputs": [
    {
     "name": "stdout",
     "output_type": "stream",
     "text": [
      "239\n"
     ]
    }
   ],
   "source": [
    "print(test_file.shape[0])\n",
    "prediction = np.zeros((test_file.shape[0]))"
   ]
  },
  {
   "cell_type": "code",
   "execution_count": 6,
   "metadata": {
    "ExecuteTime": {
     "end_time": "2020-08-11T10:59:02.245310Z",
     "start_time": "2020-08-11T10:58:58.893019Z"
    }
   },
   "outputs": [],
   "source": [
    "model_path='./model/'\n",
    "for idx in range(5):\n",
    "    model_name='model_'+str(idx)+'_'+str(0)+'.pkl'\n",
    "    m=joblib.load(os.path.join(model_path,model_name))\n",
    "    prediction += m.predict(test_file) / 5"
   ]
  },
  {
   "cell_type": "code",
   "execution_count": 7,
   "metadata": {
    "ExecuteTime": {
     "end_time": "2020-08-11T10:59:02.251311Z",
     "start_time": "2020-08-11T10:59:02.246310Z"
    }
   },
   "outputs": [],
   "source": [
    "test_file['timestamp']=test_file_time\n",
    "test_file['loadingOrder']=test_file_id\n",
    "test_file['predict']=prediction"
   ]
  },
  {
   "cell_type": "code",
   "execution_count": 8,
   "metadata": {
    "ExecuteTime": {
     "end_time": "2020-08-11T10:59:02.258313Z",
     "start_time": "2020-08-11T10:59:02.252312Z"
    }
   },
   "outputs": [],
   "source": [
    "label_map={i:j for i,j in zip(test_file['loadingOrder'],test_file['predict'])}"
   ]
  },
  {
   "cell_type": "code",
   "execution_count": 9,
   "metadata": {
    "ExecuteTime": {
     "end_time": "2020-08-11T10:59:02.276317Z",
     "start_time": "2020-08-11T10:59:02.261314Z"
    }
   },
   "outputs": [],
   "source": [
    "test_file['ETA']=(test_file['timestamp'] + test_file['predict'].apply(lambda x:pd.Timedelta(hours=x))).apply(lambda x:x.strftime('%Y/%m/%d  %H:%M:%S'))"
   ]
  },
  {
   "cell_type": "code",
   "execution_count": 10,
   "metadata": {
    "ExecuteTime": {
     "end_time": "2020-08-11T10:59:02.282319Z",
     "start_time": "2020-08-11T10:59:02.278317Z"
    }
   },
   "outputs": [],
   "source": [
    "ETA_map={i:j for i,j in zip(test_file['loadingOrder'],test_file['ETA'])}"
   ]
  },
  {
   "cell_type": "code",
   "execution_count": 11,
   "metadata": {
    "ExecuteTime": {
     "end_time": "2020-08-11T10:59:02.649402Z",
     "start_time": "2020-08-11T10:59:02.283319Z"
    }
   },
   "outputs": [],
   "source": [
    "sub['ETA'] = sub['loadingOrder'].map(ETA_map)\n",
    "\n",
    "sub['creatDate'] = pd.datetime.now().strftime('%Y/%m/%d  %H:%M:%S')\n",
    "\n",
    "sub.to_csv('./output/sub_final.csv',index=False)"
   ]
  }
 ],
 "metadata": {
  "kernelspec": {
   "display_name": "Python 3",
   "language": "python",
   "name": "python3"
  },
  "language_info": {
   "codemirror_mode": {
    "name": "ipython",
    "version": 3
   },
   "file_extension": ".py",
   "mimetype": "text/x-python",
   "name": "python",
   "nbconvert_exporter": "python",
   "pygments_lexer": "ipython3",
   "version": "3.6.7"
  },
  "toc": {
   "base_numbering": 1,
   "nav_menu": {},
   "number_sections": true,
   "sideBar": true,
   "skip_h1_title": false,
   "title_cell": "Table of Contents",
   "title_sidebar": "Contents",
   "toc_cell": false,
   "toc_position": {},
   "toc_section_display": true,
   "toc_window_display": false
  },
  "varInspector": {
   "cols": {
    "lenName": 16,
    "lenType": 16,
    "lenVar": 40
   },
   "kernels_config": {
    "python": {
     "delete_cmd_postfix": "",
     "delete_cmd_prefix": "del ",
     "library": "var_list.py",
     "varRefreshCmd": "print(var_dic_list())"
    },
    "r": {
     "delete_cmd_postfix": ") ",
     "delete_cmd_prefix": "rm(",
     "library": "var_list.r",
     "varRefreshCmd": "cat(var_dic_list()) "
    }
   },
   "types_to_exclude": [
    "module",
    "function",
    "builtin_function_or_method",
    "instance",
    "_Feature"
   ],
   "window_display": false
  }
 },
 "nbformat": 4,
 "nbformat_minor": 2
}
