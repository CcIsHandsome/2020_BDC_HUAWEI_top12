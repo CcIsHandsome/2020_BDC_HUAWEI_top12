{
 "cells": [
  {
   "cell_type": "code",
   "execution_count": 1,
   "metadata": {
    "ExecuteTime": {
     "end_time": "2020-08-11T10:59:27.505341Z",
     "start_time": "2020-08-11T10:59:26.454113Z"
    }
   },
   "outputs": [],
   "source": [
    "import pandas as pd\n",
    "import seaborn as sns\n",
    "import matplotlib.pyplot as plt\n",
    "import warnings\n",
    "import gc\n",
    "from math import radians,asin\n",
    "from sklearn.metrics import mean_squared_error,explained_variance_score,mean_absolute_error\n",
    "from sklearn.model_selection import KFold\n",
    "import lightgbm as lgb\n",
    "import seaborn\n",
    "from tqdm import tqdm_notebook as tqdm\n",
    "import numpy as np\n",
    "import math\n",
    "import os\n",
    "import time\n",
    "import json\n",
    "import joblib\n",
    "warnings.filterwarnings('ignore')"
   ]
  },
  {
   "cell_type": "code",
   "execution_count": 2,
   "metadata": {
    "ExecuteTime": {
     "end_time": "2020-08-11T10:59:27.509342Z",
     "start_time": "2020-08-11T10:59:27.506339Z"
    }
   },
   "outputs": [],
   "source": [
    "time_s=time.time()"
   ]
  },
  {
   "cell_type": "markdown",
   "metadata": {},
   "source": [
    "#  def function"
   ]
  },
  {
   "cell_type": "code",
   "execution_count": 3,
   "metadata": {
    "ExecuteTime": {
     "end_time": "2020-08-11T10:59:27.522880Z",
     "start_time": "2020-08-11T10:59:27.511341Z"
    }
   },
   "outputs": [],
   "source": [
    "def creat_log_lat(df,type_str):\n",
    "    if type_str=='dest':\n",
    "        last_time_gps=df.groupby(['loadingOrder'])['timestamp'].max().reset_index()\n",
    "    elif type_str=='ori':\n",
    "        last_time_gps=df.groupby(['loadingOrder'])['timestamp'].min().reset_index()\n",
    "    last_time_gps['id_time']=last_time_gps['loadingOrder'].astype(str)+last_time_gps['timestamp'].astype(str)\n",
    "    \n",
    "    df['id_time']=df['loadingOrder']+df['timestamp'].astype(str)\n",
    "\n",
    "    gps_last_time=df.loc[df.id_time.isin(last_time_gps['id_time'])][['loadingOrder','longitude','latitude']]\n",
    "\n",
    "    a=gps_last_time['loadingOrder']\n",
    "    log_dest=gps_last_time['longitude']\n",
    "    lat_dest=gps_last_time['latitude']\n",
    "    log_dest_map={i:j for i,j in zip(a,log_dest)}\n",
    "    lat_dest_map={i:j for i,j in zip(a,lat_dest)}\n",
    "\n",
    "    df['log_'+type_str]=df['loadingOrder'].map(log_dest_map)\n",
    "    df['lat_'+type_str]=df['loadingOrder'].map(lat_dest_map)\n",
    "    \n",
    "    df=df.drop(columns=['id_time'])\n",
    "    return df"
   ]
  },
  {
   "cell_type": "code",
   "execution_count": 4,
   "metadata": {
    "ExecuteTime": {
     "end_time": "2020-08-11T10:59:27.528882Z",
     "start_time": "2020-08-11T10:59:27.524880Z"
    }
   },
   "outputs": [],
   "source": [
    "def get_val_score(m,df,df_s):\n",
    "    fea_cols=[c for c in df_s.columns if c not in ['loadingOrder',  'timestamp', 'onboardDate','arrival_time','label','predict']]\n",
    "    df_s['predict']=m.predict(df_s[fea_cols])\n",
    "    pred_map={i:j for i,j in zip(df_s['loadingOrder'],df_s['predict'])}\n",
    "    df['predict']=df['loadingOrder'].map(pred_map)\n",
    "    score=mean_squared_error(df['label'],df['predict'])\n",
    "    return score"
   ]
  },
  {
   "cell_type": "code",
   "execution_count": 5,
   "metadata": {
    "ExecuteTime": {
     "end_time": "2020-08-11T10:59:27.535883Z",
     "start_time": "2020-08-11T10:59:27.530883Z"
    }
   },
   "outputs": [],
   "source": [
    "def create_id_time(df):\n",
    "    last_time_data=df.groupby(['loadingOrder'])['timestamp'].max().reset_index()\n",
    "    last_time_data['id_time']=last_time_data['loadingOrder'].astype(str)+last_time_data['timestamp'].astype(str)\n",
    "    \n",
    "    df['id_time']=df['loadingOrder']+df['timestamp'].astype(str)\n",
    "    \n",
    "    df=df.drop_duplicates(['id_time'])\n",
    "    \n",
    "    return df,last_time_data"
   ]
  },
  {
   "cell_type": "code",
   "execution_count": 6,
   "metadata": {
    "ExecuteTime": {
     "end_time": "2020-08-11T10:59:27.547886Z",
     "start_time": "2020-08-11T10:59:27.536883Z"
    }
   },
   "outputs": [],
   "source": [
    "def calculate_last_gps_to_dest_dist(df,type_str):\n",
    "    if type_str=='dest':\n",
    "        last_time_gps=df.groupby(['loadingOrder'])['timestamp'].max().reset_index()\n",
    "    elif type_str=='ori':\n",
    "        last_time_gps=df.groupby(['loadingOrder'])['timestamp'].min().reset_index()\n",
    "    last_time_gps['id_time']=last_time_gps['loadingOrder'].astype(str)+last_time_gps['timestamp'].astype(str)\n",
    "\n",
    "    df['id_time']=df['loadingOrder']+df['timestamp'].astype(str)\n",
    "\n",
    "    gps_last_time=df.loc[df.id_time.isin(last_time_gps['id_time'])][['loadingOrder','longitude','latitude','log_dest','lat_dest','log_ori','lat_ori']]\n",
    "    gps_last_time['lon1']=gps_last_time['log_'+type_str].map(lambda x:np.radians(x))\n",
    "    gps_last_time['lon2']=gps_last_time['longitude'].map(lambda x:np.radians(x))\n",
    "    gps_last_time['lat1']=gps_last_time['lat_'+type_str].map(lambda x:np.radians(x))\n",
    "    gps_last_time['lat2']=gps_last_time['latitude'].map(lambda x:np.radians(x))\n",
    "    dlon=gps_last_time['lon1']-gps_last_time['lon2']\n",
    "    dlat=gps_last_time['lat1']-gps_last_time['lat2']\n",
    "    a=np.sin(dlat/2)**2+np.cos(gps_last_time['lat1'])*np.cos(gps_last_time['lat2'])*np.sin(dlon/2)**2\n",
    "    dist=2*np.arcsin(np.sqrt(a))*6371\n",
    "    if type_str=='dest':\n",
    "        gps_last_time['last_gps_to_dest_dist']=dist\n",
    "        last_gps_to_dest_dist_map={i:j for i,j in zip(gps_last_time['loadingOrder'],gps_last_time['last_gps_to_dest_dist'])}\n",
    "        df['last_gps_to_dest_dist']=df['loadingOrder'].map(last_gps_to_dest_dist_map)\n",
    "    else:\n",
    "        gps_last_time['latest_gps_to_ori_dist']=dist\n",
    "        latest_gps_to_ori_dist_map={i:j for i,j in zip(gps_last_time['loadingOrder'],gps_last_time['latest_gps_to_ori_dist'])}\n",
    "        df['latest_gps_to_ori_dist']=df['loadingOrder'].map(latest_gps_to_ori_dist_map)\n",
    "    df=df.drop(columns='id_time')\n",
    "    return df"
   ]
  },
  {
   "cell_type": "code",
   "execution_count": 7,
   "metadata": {
    "ExecuteTime": {
     "end_time": "2020-08-11T10:59:27.557889Z",
     "start_time": "2020-08-11T10:59:27.548886Z"
    }
   },
   "outputs": [],
   "source": [
    "def geohash_encode(x, type_str,precision=3):\n",
    "    \"\"\"\n",
    "    Encode a position given in float arguments latitude, longitude to\n",
    "    a geohash which will have the character count precision.\n",
    "    \"\"\"\n",
    "    if type_str=='dest':\n",
    "         latitude, longitude=x['lat_dest'],x['log_dest']\n",
    "    elif type_str=='ori':\n",
    "        latitude, longitude=x['lat_ori'],x['log_ori']\n",
    "    elif type_str=='curr':\n",
    "        latitude, longitude=x['latitude'],x['longitude']\n",
    "#     print(type(latitude),latitude)\n",
    "    lat_interval, lon_interval = (-90.0, 90.0), (-180.0, 180.0)\n",
    "    base32 = '0123456789bcdefghjkmnpqrstuvwxyz'\n",
    "    geohash = []\n",
    "    bits = [16, 8, 4, 2, 1]\n",
    "    bit = 0\n",
    "    ch = 0\n",
    "    even = True\n",
    "    while len(geohash) < precision:\n",
    "        if even:\n",
    "            mid = (lon_interval[0] + lon_interval[1]) / 2\n",
    "            if longitude > mid:\n",
    "                ch |= bits[bit]\n",
    "                lon_interval = (mid, lon_interval[1])\n",
    "            else:\n",
    "                lon_interval = (lon_interval[0], mid)\n",
    "        else:\n",
    "            mid = (lat_interval[0] + lat_interval[1]) / 2\n",
    "            if latitude > mid:\n",
    "                ch |= bits[bit]\n",
    "                lat_interval = (mid, lat_interval[1])\n",
    "            else:\n",
    "                lat_interval = (lat_interval[0], mid)\n",
    "        even = not even\n",
    "        if bit < 4:\n",
    "            bit += 1\n",
    "        else:\n",
    "            geohash += base32[ch]\n",
    "            bit = 0\n",
    "            ch = 0\n",
    "    return ''.join(geohash)"
   ]
  },
  {
   "cell_type": "code",
   "execution_count": 8,
   "metadata": {
    "ExecuteTime": {
     "end_time": "2020-08-11T10:59:27.570891Z",
     "start_time": "2020-08-11T10:59:27.559888Z"
    }
   },
   "outputs": [],
   "source": [
    "def find_first_time_to_dest_dist_about_100(df):\n",
    "    \n",
    "    def calculate_curr_to_dest_dist(df): \n",
    "        df['lon1']=df['log_dest'].map(lambda x:np.radians(x))\n",
    "        df['lon2']=df['longitude'].map(lambda x:np.radians(x))\n",
    "        df['lat1']=df['lat_dest'].map(lambda x:np.radians(x))\n",
    "        df['lat2']=df['latitude'].map(lambda x:np.radians(x))\n",
    "        dlon=df['lon1']-df['lon2']\n",
    "        dlat=df['lat1']-df['lat2']\n",
    "        a=np.sin(dlat/2)**2+np.cos(df['lat1'])*np.cos(df['lat2'])*np.sin(dlon/2)**2\n",
    "        dist=2*np.arcsin(np.sqrt(a))*6371\n",
    "        df['curr_to_dest_length']=dist\n",
    "        drop_cols=['lon1','lon2','lat1','lat2']\n",
    "        df.drop(columns=drop_cols,inplace=True)\n",
    "        return df\n",
    "    df=calculate_curr_to_dest_dist(df)\n",
    "    \n",
    "    df['curr_to_dest_length']=df['curr_to_dest_length'].astype(int)\n",
    "    \n",
    "#     df['hist_speed_mean']=df.groupby('loadingOrder')['speed'].transform('mean')\n",
    "    \n",
    "    df['curr_dist_minus_100']=np.abs(df['curr_to_dest_length']-50)\n",
    "    \n",
    "    a=df[df['curr_dist_minus_100']<50] # 只取距离港口100千米范围内的数据\n",
    "    \n",
    "    a=a.sort_values(['loadingOrder','curr_dist_minus_100','timestamp'])\n",
    "#     print(a[['loadingOrder','curr_dist_minus_100','timestamp','curr_to_dest_length']])\n",
    "    \n",
    "    a=a.groupby('loadingOrder').head(5)[['loadingOrder','timestamp','curr_dist_minus_100']] # 选取候选的top5\n",
    "    \n",
    "    a=a.sort_values(['loadingOrder','timestamp'])\n",
    "    a=a.groupby('loadingOrder').head(1)[['loadingOrder','timestamp','curr_dist_minus_100']] # 在候选top5里面选取时间最早的\n",
    "    \n",
    "    last_time_map={i:j for i,j in zip(a['loadingOrder'],a['timestamp'])}\n",
    "    \n",
    "    df['last_time']=df['loadingOrder'].map(last_time_map)\n",
    "    \n",
    "    df=df.loc[df['timestamp']<=df['last_time']]\n",
    "    \n",
    "    df=df.drop(columns=['curr_dist_minus_100','last_time'])\n",
    "        \n",
    "    return df"
   ]
  },
  {
   "cell_type": "code",
   "execution_count": 9,
   "metadata": {
    "ExecuteTime": {
     "end_time": "2020-08-11T10:59:27.578894Z",
     "start_time": "2020-08-11T10:59:27.572891Z"
    }
   },
   "outputs": [],
   "source": [
    "def calculate_curr_to_dest_dist(df): \n",
    "    df['lon1']=df['log_dest'].map(lambda x:np.radians(x))\n",
    "    df['lon2']=df['longitude'].map(lambda x:np.radians(x))\n",
    "    df['lat1']=df['lat_dest'].map(lambda x:np.radians(x))\n",
    "    df['lat2']=df['latitude'].map(lambda x:np.radians(x))\n",
    "    dlon=df['lon1']-df['lon2']\n",
    "    dlat=df['lat1']-df['lat2']\n",
    "    a=np.sin(dlat/2)**2+np.cos(df['lat1'])*np.cos(df['lat2'])*np.sin(dlon/2)**2\n",
    "    dist=2*np.arcsin(np.sqrt(a))*6371\n",
    "    df['curr_to_dest_length']=dist\n",
    "    drop_cols=['lon1','lon2','lat1','lat2']\n",
    "    df.drop(columns=drop_cols,inplace=True)\n",
    "    return df"
   ]
  },
  {
   "cell_type": "code",
   "execution_count": 10,
   "metadata": {
    "ExecuteTime": {
     "end_time": "2020-08-11T10:59:27.585894Z",
     "start_time": "2020-08-11T10:59:27.580893Z"
    }
   },
   "outputs": [],
   "source": [
    "def cal_curr_direction(x):\n",
    "    lon1=x['longitude']\n",
    "    lat1=x['latitude']\n",
    "    lon2=x['log_dest']\n",
    "    lat2=x['lat_dest']\n",
    "    lat1_rad = lat1 * np.pi / 180\n",
    "    lon1_rad = lon1 * np.pi / 180\n",
    "    \n",
    "    lat2_rad = lat2 * np.pi / 180\n",
    "    lon2_rad = lon2 * np.pi / 180\n",
    "    \n",
    "    y = np.sin(lon2_rad - lon1_rad) * math.cos(lat2_rad)\n",
    "    x = np.cos(lat1_rad) * np.sin(lat2_rad) - np.sin(lat1_rad) * np.cos(lat2_rad) * np.cos(lat2_rad - lat1_rad)\n",
    "    \n",
    "    d = np.arctan2(y, x) * 180 / np.pi\n",
    "    \n",
    "    direction = float((d + 360) % 360)\n",
    "    \n",
    "    return direction"
   ]
  },
  {
   "cell_type": "markdown",
   "metadata": {},
   "source": [
    "# 清洗port"
   ]
  },
  {
   "cell_type": "code",
   "execution_count": 11,
   "metadata": {
    "ExecuteTime": {
     "end_time": "2020-08-11T10:59:27.603898Z",
     "start_time": "2020-08-11T10:59:27.587895Z"
    }
   },
   "outputs": [],
   "source": [
    "port=pd.read_csv('./input/port.csv')"
   ]
  },
  {
   "cell_type": "code",
   "execution_count": 12,
   "metadata": {
    "ExecuteTime": {
     "end_time": "2020-08-11T10:59:27.610900Z",
     "start_time": "2020-08-11T10:59:27.604898Z"
    }
   },
   "outputs": [],
   "source": [
    "# 去除重名港口\n",
    "port=port.drop_duplicates('TRANS_NODE_NAME').reset_index(drop=True)"
   ]
  },
  {
   "cell_type": "code",
   "execution_count": 13,
   "metadata": {
    "ExecuteTime": {
     "end_time": "2020-08-11T10:59:27.617902Z",
     "start_time": "2020-08-11T10:59:27.612902Z"
    }
   },
   "outputs": [],
   "source": [
    "port['TRANS_NODE_NAME']=port['TRANS_NODE_NAME'].astype(str).str.lower()"
   ]
  },
  {
   "cell_type": "code",
   "execution_count": 14,
   "metadata": {
    "ExecuteTime": {
     "end_time": "2020-08-11T10:59:27.636906Z",
     "start_time": "2020-08-11T10:59:27.618902Z"
    }
   },
   "outputs": [],
   "source": [
    "port_log_lat=port[['TRANS_NODE_NAME','LONGITUDE','LATITUDE']]\n",
    "\n",
    "port_log_lat=port_log_lat.loc[~((port_log_lat.LONGITUDE==0.831116)&(port_log_lat.LATITUDE==-0.386592))]\n",
    "port_log_lat=port_log_lat.loc[~((port_log_lat.LATITUDE==0.831116)&(port_log_lat.LONGITUDE==-0.386592))]\n",
    "\n",
    "port_log_lat['lon1']=port_log_lat['LONGITUDE'].map(lambda x:np.radians(x))\n",
    "port_log_lat['lat1']=port_log_lat['LATITUDE'].map(lambda x:np.radians(x))"
   ]
  },
  {
   "cell_type": "markdown",
   "metadata": {},
   "source": [
    "# 读取GPS "
   ]
  },
  {
   "cell_type": "code",
   "execution_count": 15,
   "metadata": {
    "ExecuteTime": {
     "end_time": "2020-08-11T10:59:48.917063Z",
     "start_time": "2020-08-11T10:59:27.637906Z"
    }
   },
   "outputs": [
    {
     "name": "stdout",
     "output_type": "stream",
     "text": [
      "测试集B的长度： 57071\n",
      "Wall time: 21.3 s\n"
     ]
    }
   ],
   "source": [
    "%%time\n",
    "# 直接读取抽样后的数据\n",
    "DEBUG=False\n",
    "NROWS=200000\n",
    "\n",
    "\n",
    "if not DEBUG:\n",
    "    gps=pd.read_pickle('./input/gps_sample-8-10_BDC.pkl')\n",
    "else:\n",
    "    gps=pd.read_pickle('./input/gps_sample-7-19.pkl')\n",
    "    gps=gps[:100]\n",
    "\n",
    "gps.sort_values(['loadingOrder','timestamp'],inplace=True)\n",
    "gps=gps.reset_index(drop=True)\n",
    "\n",
    "\n",
    "test=pd.read_csv('./input/test_B.csv')\n",
    "test.sort_values(['loadingOrder','timestamp'],inplace=True)\n",
    "print(\"测试集B的长度：\",len(test))"
   ]
  },
  {
   "cell_type": "code",
   "execution_count": 16,
   "metadata": {
    "ExecuteTime": {
     "end_time": "2020-08-11T10:59:49.050094Z",
     "start_time": "2020-08-11T10:59:48.918063Z"
    }
   },
   "outputs": [
    {
     "name": "stdout",
     "output_type": "stream",
     "text": [
      "2613777 9934\n"
     ]
    }
   ],
   "source": [
    "print(len(gps),gps.loadingOrder.nunique())"
   ]
  },
  {
   "cell_type": "code",
   "execution_count": 17,
   "metadata": {
    "ExecuteTime": {
     "end_time": "2020-08-11T10:59:49.059095Z",
     "start_time": "2020-08-11T10:59:49.051092Z"
    }
   },
   "outputs": [],
   "source": [
    "sub=test[['loadingOrder','timestamp','longitude', 'latitude', 'carrierName','vesselMMSI','onboardDate']]"
   ]
  },
  {
   "cell_type": "markdown",
   "metadata": {},
   "source": [
    "### 特征工程"
   ]
  },
  {
   "cell_type": "code",
   "execution_count": 18,
   "metadata": {
    "ExecuteTime": {
     "end_time": "2020-08-11T10:59:49.508196Z",
     "start_time": "2020-08-11T10:59:49.060095Z"
    }
   },
   "outputs": [],
   "source": [
    "gps=gps.drop(columns=['speed','vesselMMSI','direction'])\n",
    "test=test.drop(columns=['speed','vesselMMSI','direction'])"
   ]
  },
  {
   "cell_type": "code",
   "execution_count": 19,
   "metadata": {
    "ExecuteTime": {
     "end_time": "2020-08-11T10:59:54.840995Z",
     "start_time": "2020-08-11T10:59:49.510197Z"
    }
   },
   "outputs": [],
   "source": [
    "# 处理一下时间格式\n",
    "gps['timestamp']=pd.to_datetime(gps['timestamp'],infer_datetime_format=True,utc=True)\n",
    "gps['onboardDate']=pd.to_datetime(gps['onboardDate'],infer_datetime_format=True,utc=True)\n",
    "test['timestamp']=pd.to_datetime(test['timestamp'],infer_datetime_format=True,utc=True)\n",
    "test['onboardDate']=pd.to_datetime(test['onboardDate'],infer_datetime_format=True,utc=True)"
   ]
  },
  {
   "cell_type": "code",
   "execution_count": 20,
   "metadata": {
    "ExecuteTime": {
     "end_time": "2020-08-11T11:01:10.440229Z",
     "start_time": "2020-08-11T10:59:54.841988Z"
    }
   },
   "outputs": [],
   "source": [
    "gps['TRANSPORT_TRACE']=gps['TRANSPORT_TRACE'].str.lower()\n",
    "test['TRANSPORT_TRACE']=test['TRANSPORT_TRACE'].str.lower()\n",
    "\n",
    "\n",
    "test['TRANSPORT_TRACE']=test['TRANSPORT_TRACE'].str.replace('cnytn','cnshk')\n",
    "test['TRANSPORT_TRACE']=test['TRANSPORT_TRACE'].str.replace('shekou','cnshk')\n",
    "test['TRANSPORT_TRACE']=test['TRANSPORT_TRACE'].str.replace('hkhkg','hkg')\n",
    "test['TRANSPORT_TRACE']=test['TRANSPORT_TRACE'].str.replace('cnhkg','hkg')\n",
    "test['TRANSPORT_TRACE']=test['TRANSPORT_TRACE'].str.replace('hongkong','hkg')\n",
    "test['TRANSPORT_TRACE']=test['TRANSPORT_TRACE'].str.replace('ytn','hkg')\n",
    "test['TRANSPORT_TRACE']=test['TRANSPORT_TRACE'].str.replace('ltklj-hk2_sf','hkg')\n",
    "test['TRANSPORT_TRACE']=test['TRANSPORT_TRACE'].str.replace('hkgg kong_china','hkg')\n",
    "test['TRANSPORT_TRACE']=test['TRANSPORT_TRACE'].str.replace('mtmal','mtmar')\n",
    "test['TRANSPORT_TRACE']=test['TRANSPORT_TRACE'].str.replace('bu','buenosaires') # 这里会把下面的bu都匹配掉\n",
    "test['TRANSPORT_TRACE']=test['TRANSPORT_TRACE'].str.replace('hk2_sf','hkg')\n",
    "test['TRANSPORT_TRACE']=test['TRANSPORT_TRACE'].str.replace('hk1_macaud','hkg')\n",
    "test['TRANSPORT_TRACE']=test['TRANSPORT_TRACE'].str.replace('hk1_sino','hkg')\n",
    "test['TRANSPORT_TRACE']=test['TRANSPORT_TRACE'].str.replace('hon','hkg')\n",
    "test['TRANSPORT_TRACE']=test['TRANSPORT_TRACE'].str.replace('arbuenosairese','buenosaires')\n",
    "test['TRANSPORT_TRACE']=test['TRANSPORT_TRACE'].str.replace('cobuenosairesn','buenosaires')\n",
    "test['TRANSPORT_TRACE']=test['TRANSPORT_TRACE'].str.replace('buenosairesenosaires','buenosaires')\n",
    "test['TRANSPORT_TRACE']=test['TRANSPORT_TRACE'].str.replace('cnshk','hkg')\n",
    "test['TRANSPORT_TRACE']=test['TRANSPORT_TRACE'].str.replace('cnnsa','hkg')\n",
    "test['TRANSPORT_TRACE']=test['TRANSPORT_TRACE'].str.replace('cvpra','cvrai')\n",
    "test['TRANSPORT_TRACE']=test['TRANSPORT_TRACE'].str.replace('manzanillo_panama','paonx')\n",
    "test['TRANSPORT_TRACE']=test['TRANSPORT_TRACE'].str.replace('panama','paonx')\n",
    "test['TRANSPORT_TRACE']=test['TRANSPORT_TRACE'].str.replace('pacol','paonx')\n",
    "test['TRANSPORT_TRACE']=test['TRANSPORT_TRACE'].str.replace('crpli','crlio')\n",
    "test['TRANSPORT_TRACE']=test['TRANSPORT_TRACE'].str.replace('portoftanjungpelepas_malaysia','mytpp')\n",
    "test['TRANSPORT_TRACE']=test['TRANSPORT_TRACE'].str.replace('nzakl','akl')\n",
    "test['TRANSPORT_TRACE']=test['TRANSPORT_TRACE'].str.replace('sgsin','sin')\n",
    "test['TRANSPORT_TRACE']=test['TRANSPORT_TRACE'].str.replace('cnsgh','shanghai')\n",
    "test['TRANSPORT_TRACE']=test['TRANSPORT_TRACE'].str.replace('csh1_shhlw','shanghai')\n",
    "test['TRANSPORT_TRACE']=test['TRANSPORT_TRACE'].str.replace('brsts','brssz')\n",
    "test['TRANSPORT_TRACE']=test['TRANSPORT_TRACE'].str.replace('tza','bzbze')\n",
    "test['TRANSPORT_TRACE']=test['TRANSPORT_TRACE'].str.replace('twkao','twkhh')\n",
    "test['TRANSPORT_TRACE']=test['TRANSPORT_TRACE'].str.replace('cnkhs','twkhh')\n",
    "test['TRANSPORT_TRACE']=test['TRANSPORT_TRACE'].str.replace('cndcw','hkg')\n",
    "test['TRANSPORT_TRACE']=test['TRANSPORT_TRACE'].str.replace('cndcb','hkg')\n",
    "test['TRANSPORT_TRACE']=test['TRANSPORT_TRACE'].str.replace('cndcb','cncwn')\n",
    "test['TRANSPORT_TRACE']=test['TRANSPORT_TRACE'].str.replace('mylpk','mypkg')\n",
    "test['TRANSPORT_TRACE']=test['TRANSPORT_TRACE'].str.replace('mywsp','mypkg')\n",
    "\n",
    "gps['TRANSPORT_TRACE']=gps['TRANSPORT_TRACE'].str.replace('cnytn','cnshk')\n",
    "gps['TRANSPORT_TRACE']=gps['TRANSPORT_TRACE'].str.replace('shekou','cnshk')\n",
    "gps['TRANSPORT_TRACE']=gps['TRANSPORT_TRACE'].str.replace('hkhkg','hkg')\n",
    "gps['TRANSPORT_TRACE']=gps['TRANSPORT_TRACE'].str.replace('cnhkg','hkg')\n",
    "gps['TRANSPORT_TRACE']=gps['TRANSPORT_TRACE'].str.replace('hongkong','hkg')\n",
    "gps['TRANSPORT_TRACE']=gps['TRANSPORT_TRACE'].str.replace('ytn','hkg')\n",
    "gps['TRANSPORT_TRACE']=gps['TRANSPORT_TRACE'].str.replace('ltklj-hk2_sf','hkg')\n",
    "gps['TRANSPORT_TRACE']=gps['TRANSPORT_TRACE'].str.replace('hkgg kong_china','hkg')\n",
    "gps['TRANSPORT_TRACE']=gps['TRANSPORT_TRACE'].str.replace('mtmal','mtmar')\n",
    "gps['TRANSPORT_TRACE']=gps['TRANSPORT_TRACE'].str.replace('bu','buenosaires')\n",
    "gps['TRANSPORT_TRACE']=gps['TRANSPORT_TRACE'].str.replace('hk2_sf','hkg')\n",
    "gps['TRANSPORT_TRACE']=gps['TRANSPORT_TRACE'].str.replace('hk1_macaud','hkg')\n",
    "gps['TRANSPORT_TRACE']=gps['TRANSPORT_TRACE'].str.replace('hk1_sino','hkg')\n",
    "gps['TRANSPORT_TRACE']=gps['TRANSPORT_TRACE'].str.replace('hon','hkg')\n",
    "gps['TRANSPORT_TRACE']=gps['TRANSPORT_TRACE'].str.replace('arbuenosairese','buenosaires')\n",
    "gps['TRANSPORT_TRACE']=gps['TRANSPORT_TRACE'].str.replace('cobuenosairesn','buenosaires')\n",
    "gps['TRANSPORT_TRACE']=gps['TRANSPORT_TRACE'].str.replace('buenosairesenosaires','buenosaires')\n",
    "gps['TRANSPORT_TRACE']=gps['TRANSPORT_TRACE'].str.replace('cnshk','hkg')\n",
    "gps['TRANSPORT_TRACE']=gps['TRANSPORT_TRACE'].str.replace('cnnsa','hkg')\n",
    "gps['TRANSPORT_TRACE']=gps['TRANSPORT_TRACE'].str.replace('cvpra','cvrai')\n",
    "gps['TRANSPORT_TRACE']=gps['TRANSPORT_TRACE'].str.replace('manzanillo_panama','paonx')\n",
    "gps['TRANSPORT_TRACE']=gps['TRANSPORT_TRACE'].str.replace('panama','paonx')\n",
    "gps['TRANSPORT_TRACE']=gps['TRANSPORT_TRACE'].str.replace('pacol','paonx')\n",
    "gps['TRANSPORT_TRACE']=gps['TRANSPORT_TRACE'].str.replace('crpli','crlio')\n",
    "gps['TRANSPORT_TRACE']=gps['TRANSPORT_TRACE'].str.replace('portoftanjungpelepas_malaysia','mytpp')\n",
    "gps['TRANSPORT_TRACE']=gps['TRANSPORT_TRACE'].str.replace('nzakl','akl')\n",
    "gps['TRANSPORT_TRACE']=gps['TRANSPORT_TRACE'].str.replace('sgsin','sin')\n",
    "gps['TRANSPORT_TRACE']=gps['TRANSPORT_TRACE'].str.replace('cnsgh','shanghai')\n",
    "gps['TRANSPORT_TRACE']=gps['TRANSPORT_TRACE'].str.replace('csh1_shhlw','shanghai')\n",
    "gps['TRANSPORT_TRACE']=gps['TRANSPORT_TRACE'].str.replace('brsts','brssz')\n",
    "gps['TRANSPORT_TRACE']=gps['TRANSPORT_TRACE'].str.replace('tza','bzbze')\n",
    "gps['TRANSPORT_TRACE']=gps['TRANSPORT_TRACE'].str.replace('twkao','twkhh')\n",
    "gps['TRANSPORT_TRACE']=gps['TRANSPORT_TRACE'].str.replace('cnkhs','twkhh')\n",
    "gps['TRANSPORT_TRACE']=gps['TRANSPORT_TRACE'].str.replace('cndcw','hkg')\n",
    "gps['TRANSPORT_TRACE']=gps['TRANSPORT_TRACE'].str.replace('cndcb','hkg')\n",
    "gps['TRANSPORT_TRACE']=gps['TRANSPORT_TRACE'].str.replace('cndcb','cncwn')\n",
    "gps['TRANSPORT_TRACE']=gps['TRANSPORT_TRACE'].str.replace('mylpk','mypkg')\n",
    "gps['TRANSPORT_TRACE']=gps['TRANSPORT_TRACE'].str.replace('mywsp','mypkg')\n",
    "\n",
    "gps['ori_port']=gps['TRANSPORT_TRACE'].map(lambda x: str(x).split('-')[0])\n",
    "gps['dest_port']=gps['TRANSPORT_TRACE'].map(lambda x: str(x).split('-')[-1])\n",
    "\n",
    "test['ori_port']=test['TRANSPORT_TRACE'].map(lambda x: str(x).split('-')[0])\n",
    "test['dest_port']=test['TRANSPORT_TRACE'].map(lambda x: str(x).split('-')[-1])"
   ]
  },
  {
   "cell_type": "code",
   "execution_count": 21,
   "metadata": {
    "ExecuteTime": {
     "end_time": "2020-08-11T11:01:10.602267Z",
     "start_time": "2020-08-11T11:01:10.441226Z"
    }
   },
   "outputs": [
    {
     "name": "stdout",
     "output_type": "stream",
     "text": [
      "1 ['cnsha-sin']\n"
     ]
    }
   ],
   "source": [
    "gps_trance=gps.TRANSPORT_TRACE.unique().tolist()\n",
    "\n",
    "test['TRANSPORT_TRACE']=test.TRANSPORT_TRACE.str.lower()\n",
    "test_trance=test.TRANSPORT_TRACE.unique().tolist()\n",
    "\n",
    "ans=[]\n",
    "for c in test_trance:\n",
    "    if c not in gps_trance:\n",
    "        ans.append(c)\n",
    "print(len(ans),ans)"
   ]
  },
  {
   "cell_type": "code",
   "execution_count": 22,
   "metadata": {
    "ExecuteTime": {
     "end_time": "2020-08-11T11:01:11.390444Z",
     "start_time": "2020-08-11T11:01:10.603266Z"
    }
   },
   "outputs": [],
   "source": [
    "port_name=port.TRANS_NODE_NAME\n",
    "port_log=port.LONGITUDE\n",
    "port_lat=port.LATITUDE\n",
    "log_dest_map={i:j for i,j in zip(port_name,port_log)}\n",
    "lat_dest_map={i:j for i,j in zip(port_name,port_lat)}\n",
    "\n",
    "\n",
    "test['log_dest']=test['dest_port'].map(log_dest_map)\n",
    "test['lat_dest']=test['dest_port'].map(lat_dest_map)\n",
    "test['log_ori']=test['ori_port'].map(log_dest_map)\n",
    "test['lat_ori']=test['ori_port'].map(lat_dest_map)\n",
    "\n",
    "gps['log_dest']=gps['dest_port'].map(log_dest_map)\n",
    "gps['lat_dest']=gps['dest_port'].map(lat_dest_map)\n",
    "gps['log_ori']=gps['ori_port'].map(log_dest_map)\n",
    "gps['lat_ori']=gps['ori_port'].map(lat_dest_map)"
   ]
  },
  {
   "cell_type": "markdown",
   "metadata": {},
   "source": [
    "上图是训练集的分布和测试集最后一条记录形成的分布图,红色测试集，蓝色训练集"
   ]
  },
  {
   "cell_type": "code",
   "execution_count": 23,
   "metadata": {
    "ExecuteTime": {
     "end_time": "2020-08-11T11:01:11.749541Z",
     "start_time": "2020-08-11T11:01:11.394445Z"
    }
   },
   "outputs": [],
   "source": [
    "# 单号 FA712454830300 数据数据异常，单独处理\n",
    "test=calculate_curr_to_dest_dist(test)\n",
    "a=test[test.loadingOrder=='FA712454830300']\n",
    "test=test.loc[~test.loadingOrder.isin(['FA712454830300'])]\n",
    "a=a.loc[a.curr_to_dest_length==a.curr_to_dest_length.min()]\n",
    "test=test.append(a)\n",
    "test=test.drop(columns='curr_to_dest_length')"
   ]
  },
  {
   "cell_type": "code",
   "execution_count": 24,
   "metadata": {
    "ExecuteTime": {
     "end_time": "2020-08-11T11:01:12.343676Z",
     "start_time": "2020-08-11T11:01:11.751542Z"
    }
   },
   "outputs": [],
   "source": [
    "def process_diff_log(diff):\n",
    "    return diff if diff < 180 else 360 - diff\n",
    "    \n",
    "gps['diff_log_from_current_to_dest'] = abs(gps['log_dest'] - gps['longitude'])\n",
    "gps['diff_log_from_current_to_dest'] = gps['diff_log_from_current_to_dest'].apply(process_diff_log)\n",
    "gps['diff_lat_from_current_to_dest'] = abs(gps['lat_dest'] - gps['latitude'])\n",
    "\n",
    "test['diff_log_from_current_to_dest'] = abs(test['log_dest'] - test['longitude'])\n",
    "test['diff_log_from_current_to_dest'] = test['diff_log_from_current_to_dest'].apply(process_diff_log)\n",
    "test['diff_lat_from_current_to_dest'] = abs(test['lat_dest'] - test['latitude'])\n"
   ]
  },
  {
   "cell_type": "code",
   "execution_count": 25,
   "metadata": {
    "ExecuteTime": {
     "end_time": "2020-08-11T11:08:22.926503Z",
     "start_time": "2020-08-11T11:01:12.344675Z"
    }
   },
   "outputs": [
    {
     "name": "stdout",
     "output_type": "stream",
     "text": [
      "Wall time: 7min 10s\n"
     ]
    }
   ],
   "source": [
    "%%time\n",
    "# 给当前位置，目的地，出发地做一个geohash\n",
    "gps['curr_pos_geohash_3']=gps[['latitude','longitude']].apply(geohash_encode,args=('curr',3),axis=1)\n",
    "test['curr_pos_geohash_3']=test[['latitude','longitude']].apply(geohash_encode,args=('curr',3),axis=1)\n",
    "\n",
    "gps['curr_pos_geohash_4']=gps[['latitude','longitude']].apply(geohash_encode,args=('curr',4),axis=1)\n",
    "test['curr_pos_geohash_4']=test[['latitude','longitude']].apply(geohash_encode,args=('curr',4),axis=1)\n",
    "\n",
    "gps['dest_geohash']=gps[['lat_dest','log_dest']].apply(geohash_encode,args=('dest',3),axis=1)\n",
    "test['dest_geohash']=test[['lat_dest','log_dest']].apply(geohash_encode,args=('dest',3),axis=1)\n",
    "\n",
    "gps['hash_curr3_dest']=gps['curr_pos_geohash_3']+'-'+gps['dest_geohash']\n",
    "test['hash_curr3_dest']=test['curr_pos_geohash_3']+'-'+test['dest_geohash']\n"
   ]
  },
  {
   "cell_type": "code",
   "execution_count": 26,
   "metadata": {
    "ExecuteTime": {
     "end_time": "2020-08-11T11:08:22.996519Z",
     "start_time": "2020-08-11T11:08:22.927503Z"
    }
   },
   "outputs": [],
   "source": [
    "gps['log_curr_dest_diff']=gps['longitude']-gps['log_dest']\n",
    "test['log_curr_dest_diff']=test['longitude']-test['log_dest']\n",
    "\n",
    "gps['lat_curr_dest_diff']=gps['latitude']-gps['lat_dest']\n",
    "test['lat_curr_dest_diff']=test['latitude']-test['lat_dest']\n",
    "\n",
    "gps['log_curr_ori_diff']=gps['longitude']-gps['log_ori']\n",
    "test['log_curr_ori_diff']=test['longitude']-test['log_ori']\n",
    "\n",
    "gps['lat_curr_ori_diff']=gps['latitude']-gps['lat_ori']\n",
    "test['lat_curr_ori_diff']=test['latitude']-test['lat_ori']"
   ]
  },
  {
   "cell_type": "code",
   "execution_count": 27,
   "metadata": {
    "ExecuteTime": {
     "end_time": "2020-08-11T11:08:24.412848Z",
     "start_time": "2020-08-11T11:08:22.997520Z"
    }
   },
   "outputs": [],
   "source": [
    "# 中转港个数\n",
    "gps['trance_str_len']=gps['TRANSPORT_TRACE'].map(lambda x:len(x.split('-')))\n",
    "test['trance_str_len']=test['TRANSPORT_TRACE'].map(lambda x:len(x.split('-')))"
   ]
  },
  {
   "cell_type": "code",
   "execution_count": 28,
   "metadata": {
    "ExecuteTime": {
     "end_time": "2020-08-11T11:08:25.689165Z",
     "start_time": "2020-08-11T11:08:24.413848Z"
    }
   },
   "outputs": [],
   "source": [
    "gps=gps.drop(columns=['lat_ori','log_ori','ori_port'])\n",
    "test=test.drop(columns=['lat_ori','log_ori','ori_port'])"
   ]
  },
  {
   "cell_type": "code",
   "execution_count": 29,
   "metadata": {
    "ExecuteTime": {
     "end_time": "2020-08-11T11:08:30.046186Z",
     "start_time": "2020-08-11T11:08:25.690166Z"
    },
    "scrolled": true
   },
   "outputs": [
    {
     "name": "stdout",
     "output_type": "stream",
     "text": [
      "['TRANSPORT_TRACE', 'carrierName', 'curr_pos_geohash_3', 'curr_pos_geohash_4', 'dest_geohash', 'dest_port', 'hash_curr3_dest']\n"
     ]
    }
   ],
   "source": [
    "# 将测试集和训练集合并，一起处理类别特征\n",
    "trn_len=len(gps)\n",
    "\n",
    "gps=gps.append(test)   # 这样append也可以是train test的columns顺序一直\n",
    "gps=gps.reset_index(drop=True)\n",
    "\n",
    "\n",
    "cate_features=[]\n",
    "for c in gps.columns:\n",
    "    if gps[c].dtype=='object' and c not in ['loadingOrder','timestamp']:\n",
    "        cate_features.append(c)\n",
    "        gps[c]=gps[c].astype('category').cat.codes\n",
    "print(cate_features)\n",
    "    \n",
    "test=gps[trn_len:]\n",
    "gps=gps[:trn_len]\n",
    "gc.collect()\n",
    "\n",
    "test.drop(columns=['label'],inplace=True)\n",
    "\n",
    "gps=gps.reset_index(drop=True)\n",
    "test=test.reset_index(drop=True)"
   ]
  },
  {
   "cell_type": "markdown",
   "metadata": {},
   "source": [
    "### 分离训练集和验证集"
   ]
  },
  {
   "cell_type": "code",
   "execution_count": 30,
   "metadata": {
    "ExecuteTime": {
     "end_time": "2020-08-11T11:08:30.066191Z",
     "start_time": "2020-08-11T11:08:30.047186Z"
    }
   },
   "outputs": [],
   "source": [
    "test.to_pickle('./input/test_B_features_7-19.pkl')"
   ]
  },
  {
   "cell_type": "code",
   "execution_count": 31,
   "metadata": {
    "ExecuteTime": {
     "end_time": "2020-08-11T11:08:30.224226Z",
     "start_time": "2020-08-11T11:08:30.068191Z"
    }
   },
   "outputs": [],
   "source": [
    "# 分出标签并保存一些中间信息，便于后面操作\n",
    "y=gps['label']\n",
    "\n",
    "gps=gps.drop(columns=['loadingOrder', 'timestamp', 'onboardDate','label'])\n",
    "\n",
    "test_id_time=test[['loadingOrder','timestamp']]\n",
    "test=test.drop(columns=['loadingOrder','timestamp', 'onboardDate'])"
   ]
  },
  {
   "cell_type": "code",
   "execution_count": 32,
   "metadata": {
    "ExecuteTime": {
     "end_time": "2020-08-11T11:08:30.232268Z",
     "start_time": "2020-08-11T11:08:30.225226Z"
    }
   },
   "outputs": [
    {
     "name": "stdout",
     "output_type": "stream",
     "text": [
      "18 Index(['TRANSPORT_TRACE', 'carrierName', 'curr_pos_geohash_3',\n",
      "       'curr_pos_geohash_4', 'dest_geohash', 'dest_port',\n",
      "       'diff_lat_from_current_to_dest', 'diff_log_from_current_to_dest',\n",
      "       'hash_curr3_dest', 'lat_curr_dest_diff', 'lat_curr_ori_diff',\n",
      "       'lat_dest', 'latitude', 'log_curr_dest_diff', 'log_curr_ori_diff',\n",
      "       'log_dest', 'longitude', 'trance_str_len'],\n",
      "      dtype='object')\n",
      "18 Index(['TRANSPORT_TRACE', 'carrierName', 'curr_pos_geohash_3',\n",
      "       'curr_pos_geohash_4', 'dest_geohash', 'dest_port',\n",
      "       'diff_lat_from_current_to_dest', 'diff_log_from_current_to_dest',\n",
      "       'hash_curr3_dest', 'lat_curr_dest_diff', 'lat_curr_ori_diff',\n",
      "       'lat_dest', 'latitude', 'log_curr_dest_diff', 'log_curr_ori_diff',\n",
      "       'log_dest', 'longitude', 'trance_str_len'],\n",
      "      dtype='object')\n"
     ]
    }
   ],
   "source": [
    "print(len(gps.columns),gps.columns)\n",
    "print(len(test.columns),test.columns)"
   ]
  },
  {
   "cell_type": "markdown",
   "metadata": {},
   "source": [
    "# model"
   ]
  },
  {
   "cell_type": "code",
   "execution_count": 33,
   "metadata": {
    "ExecuteTime": {
     "end_time": "2020-08-11T11:08:30.236229Z",
     "start_time": "2020-08-11T11:08:30.233229Z"
    }
   },
   "outputs": [],
   "source": [
    "if not DEBUG:\n",
    "    n_estimators=3555\n",
    "else:\n",
    "    n_estimators=200"
   ]
  },
  {
   "cell_type": "code",
   "execution_count": 34,
   "metadata": {
    "ExecuteTime": {
     "end_time": "2020-08-11T11:08:30.243230Z",
     "start_time": "2020-08-11T11:08:30.237229Z"
    }
   },
   "outputs": [],
   "source": [
    "random_state_seed=2020"
   ]
  },
  {
   "cell_type": "code",
   "execution_count": 35,
   "metadata": {
    "ExecuteTime": {
     "end_time": "2020-08-11T11:08:30.249232Z",
     "start_time": "2020-08-11T11:08:30.244230Z"
    }
   },
   "outputs": [],
   "source": [
    "best_hp={'boosting_type': 'gbdt',\n",
    " 'num_leaves': 120,\n",
    " 'max_depth': -1,\n",
    " 'learning_rate': 0.1,\n",
    " 'n_estimators': n_estimators,\n",
    " 'subsample_for_bin': 200000,\n",
    " 'objective': 'mse',\n",
    " 'min_split_gain': 0,\n",
    " 'min_child_weight': 0.001,\n",
    " 'min_child_samples': 4,\n",
    " 'subsample': 1.0,\n",
    " 'subsample_freq': 0,\n",
    " 'colsample_bytree': 1,\n",
    " 'reg_alpha': 0.12740601081135802,\n",
    " 'reg_lambda': 0.056415310666309004,\n",
    " 'n_jobs': 16,\n",
    "#  'silent': True,\n",
    " 'importance_type': 'split',\n",
    " 'random_state':2020}"
   ]
  },
  {
   "cell_type": "code",
   "execution_count": 36,
   "metadata": {
    "ExecuteTime": {
     "end_time": "2020-08-11T11:31:23.750201Z",
     "start_time": "2020-08-11T11:08:30.251233Z"
    },
    "scrolled": true
   },
   "outputs": [
    {
     "name": "stdout",
     "output_type": "stream",
     "text": [
      "开始训练第1个模型：\n",
      "正在训练第1折\n",
      "Training until validation scores don't improve for 200 rounds\n",
      "[100]\ttraining's l2: 2261.58\tvalid_1's l2: 2441.01\n",
      "[200]\ttraining's l2: 2051.4\tvalid_1's l2: 2331.2\n",
      "[300]\ttraining's l2: 1939.07\tvalid_1's l2: 2281.49\n",
      "[400]\ttraining's l2: 1867.88\tvalid_1's l2: 2258.77\n",
      "[500]\ttraining's l2: 1808.91\tvalid_1's l2: 2245.11\n",
      "[600]\ttraining's l2: 1761.5\tvalid_1's l2: 2234.24\n",
      "[700]\ttraining's l2: 1719.28\tvalid_1's l2: 2223.46\n",
      "[800]\ttraining's l2: 1685.41\tvalid_1's l2: 2226.21\n",
      "[900]\ttraining's l2: 1654.34\tvalid_1's l2: 2222.48\n",
      "[1000]\ttraining's l2: 1629.07\tvalid_1's l2: 2219.55\n",
      "[1100]\ttraining's l2: 1603.93\tvalid_1's l2: 2217.17\n",
      "[1200]\ttraining's l2: 1582.04\tvalid_1's l2: 2217.7\n",
      "[1300]\ttraining's l2: 1559.92\tvalid_1's l2: 2217.29\n",
      "[1400]\ttraining's l2: 1538.98\tvalid_1's l2: 2217.49\n",
      "Early stopping, best iteration is:\n",
      "[1262]\ttraining's l2: 1569.56\tvalid_1's l2: 2215.83\n",
      "正在训练第2折\n",
      "Training until validation scores don't improve for 200 rounds\n",
      "[100]\ttraining's l2: 2275.99\tvalid_1's l2: 2455.79\n",
      "[200]\ttraining's l2: 2066.21\tvalid_1's l2: 2328.89\n",
      "[300]\ttraining's l2: 1958.57\tvalid_1's l2: 2283.06\n",
      "[400]\ttraining's l2: 1885.92\tvalid_1's l2: 2258.15\n",
      "[500]\ttraining's l2: 1827.78\tvalid_1's l2: 2242.87\n",
      "[600]\ttraining's l2: 1779.97\tvalid_1's l2: 2233.21\n",
      "[700]\ttraining's l2: 1734.95\tvalid_1's l2: 2220.91\n",
      "[800]\ttraining's l2: 1697.35\tvalid_1's l2: 2216.21\n",
      "[900]\ttraining's l2: 1667.65\tvalid_1's l2: 2217.25\n",
      "[1000]\ttraining's l2: 1638.25\tvalid_1's l2: 2212.15\n",
      "[1100]\ttraining's l2: 1615.4\tvalid_1's l2: 2208.08\n",
      "[1200]\ttraining's l2: 1591.02\tvalid_1's l2: 2207.25\n",
      "[1300]\ttraining's l2: 1569.68\tvalid_1's l2: 2204.09\n",
      "[1400]\ttraining's l2: 1553.13\tvalid_1's l2: 2204.64\n",
      "Early stopping, best iteration is:\n",
      "[1296]\ttraining's l2: 1570.24\tvalid_1's l2: 2203.95\n",
      "正在训练第3折\n",
      "Training until validation scores don't improve for 200 rounds\n",
      "[100]\ttraining's l2: 2267.68\tvalid_1's l2: 2494.71\n",
      "[200]\ttraining's l2: 2056.08\tvalid_1's l2: 2371.52\n",
      "[300]\ttraining's l2: 1937.07\tvalid_1's l2: 2322.81\n",
      "[400]\ttraining's l2: 1859.1\tvalid_1's l2: 2302.59\n",
      "[500]\ttraining's l2: 1800.82\tvalid_1's l2: 2288.43\n",
      "[600]\ttraining's l2: 1758.13\tvalid_1's l2: 2282.91\n",
      "[700]\ttraining's l2: 1718.21\tvalid_1's l2: 2277.33\n",
      "[800]\ttraining's l2: 1685.23\tvalid_1's l2: 2275.57\n",
      "[900]\ttraining's l2: 1652.66\tvalid_1's l2: 2268.79\n",
      "[1000]\ttraining's l2: 1626.24\tvalid_1's l2: 2268.22\n",
      "[1100]\ttraining's l2: 1603.76\tvalid_1's l2: 2266.98\n",
      "[1200]\ttraining's l2: 1581.28\tvalid_1's l2: 2265.86\n",
      "[1300]\ttraining's l2: 1559.14\tvalid_1's l2: 2265.96\n",
      "[1400]\ttraining's l2: 1538.89\tvalid_1's l2: 2265.66\n",
      "Early stopping, best iteration is:\n",
      "[1284]\ttraining's l2: 1561.91\tvalid_1's l2: 2264.5\n",
      "正在训练第4折\n",
      "Training until validation scores don't improve for 200 rounds\n",
      "[100]\ttraining's l2: 2263.39\tvalid_1's l2: 2445.24\n",
      "[200]\ttraining's l2: 2042.62\tvalid_1's l2: 2316.51\n",
      "[300]\ttraining's l2: 1937.17\tvalid_1's l2: 2274.96\n",
      "[400]\ttraining's l2: 1860.29\tvalid_1's l2: 2255.31\n",
      "[500]\ttraining's l2: 1805.63\tvalid_1's l2: 2240.48\n",
      "[600]\ttraining's l2: 1759.48\tvalid_1's l2: 2230.18\n",
      "[700]\ttraining's l2: 1721.87\tvalid_1's l2: 2222.33\n",
      "[800]\ttraining's l2: 1688.35\tvalid_1's l2: 2218.6\n",
      "[900]\ttraining's l2: 1659.36\tvalid_1's l2: 2218.81\n",
      "[1000]\ttraining's l2: 1634.07\tvalid_1's l2: 2216.76\n",
      "[1100]\ttraining's l2: 1606.21\tvalid_1's l2: 2213.11\n",
      "[1200]\ttraining's l2: 1583.51\tvalid_1's l2: 2212.73\n",
      "[1300]\ttraining's l2: 1564.83\tvalid_1's l2: 2212.47\n",
      "Early stopping, best iteration is:\n",
      "[1190]\ttraining's l2: 1586.38\tvalid_1's l2: 2211.51\n",
      "正在训练第5折\n",
      "Training until validation scores don't improve for 200 rounds\n",
      "[100]\ttraining's l2: 2266.62\tvalid_1's l2: 2480\n",
      "[200]\ttraining's l2: 2051.62\tvalid_1's l2: 2362.87\n",
      "[300]\ttraining's l2: 1934.31\tvalid_1's l2: 2320.9\n",
      "[400]\ttraining's l2: 1860.23\tvalid_1's l2: 2298.81\n",
      "[500]\ttraining's l2: 1802.13\tvalid_1's l2: 2288.04\n",
      "[600]\ttraining's l2: 1754.8\tvalid_1's l2: 2281.82\n",
      "[700]\ttraining's l2: 1713.77\tvalid_1's l2: 2277.11\n",
      "[800]\ttraining's l2: 1680.58\tvalid_1's l2: 2272.97\n",
      "[900]\ttraining's l2: 1651.57\tvalid_1's l2: 2271.69\n",
      "[1000]\ttraining's l2: 1624.84\tvalid_1's l2: 2269.18\n",
      "[1100]\ttraining's l2: 1600.39\tvalid_1's l2: 2266.98\n",
      "[1200]\ttraining's l2: 1579.16\tvalid_1's l2: 2265\n",
      "[1300]\ttraining's l2: 1557.78\tvalid_1's l2: 2266.64\n",
      "[1400]\ttraining's l2: 1538.06\tvalid_1's l2: 2266.69\n",
      "Early stopping, best iteration is:\n",
      "[1223]\ttraining's l2: 1573.76\tvalid_1's l2: 2263.83\n",
      "oof mse:2231.92219128048,oof mae:24.67326169996287\n",
      "******************************\n",
      "oof mse 2231.92219128048\n",
      "Wall time: 22min 53s\n"
     ]
    }
   ],
   "source": [
    "%%time\n",
    "feature_importance=pd.DataFrame(columns=['features','importance'])\n",
    "feature_importance['features']=gps.columns\n",
    "feature_importance['importance']=0\n",
    "oof = np.zeros((gps.shape[0]))\n",
    "# val_pre = np.zeros((val_x.shape[0]))\n",
    "prediction = np.zeros((test.shape[0]))\n",
    "# seeds = [123456, 87654, 676767]\n",
    "seeds = [2020, 1995, 810236]\n",
    "score=0\n",
    "num_model_seed = 1\n",
    "for model_seed in range(num_model_seed):\n",
    "    print(\"开始训练第%d个模型：\" % (model_seed + 1))\n",
    "    oof_cat = np.zeros((gps.shape[0]))\n",
    "    prediction_cat = np.zeros((test.shape[0]))\n",
    "    feature_importance_cat=np.zeros((feature_importance.shape[0]))\n",
    "    skf = KFold(n_splits=5, random_state=seeds[model_seed], shuffle=True) # 这里是否需要shuffle，因为数据是进过排序好的，不shuffle，那么按照顺序切割了 \n",
    "    for index, (train_index, test_index) in enumerate(skf.split(gps, y)):\n",
    "        print(\"正在训练第%d折\" % (index + 1))\n",
    "        train_x, test_x, train_y, test_y = gps.iloc[train_index], gps.iloc[test_index], y.iloc[train_index], \\\n",
    "                                           y.iloc[test_index]\n",
    "        gc.collect()\n",
    "        m = lgb.LGBMRegressor().set_params(**best_hp)\n",
    "        m.fit(train_x, train_y, eval_metric='mse', eval_set=[(train_x,train_y),(test_x,test_y)],verbose=100,early_stopping_rounds=200,categorical_feature=cate_features)\n",
    "        model_name='./model/model_'+str(index)+'_'+str(model_seed)+'.pkl'\n",
    "        joblib.dump(m,model_name)\n",
    "        feature_importance_cat+=m.feature_importances_ / skf.n_splits\n",
    "        oof_cat[test_index] += m.predict(test_x)\n",
    "#         val_pre += m.predict(val_x) / skf.n_splits\n",
    "        prediction_cat += m.predict(test) / skf.n_splits\n",
    "        gc.collect()\n",
    "\n",
    "    feature_importance['importance']+=feature_importance_cat/num_model_seed\n",
    "    oof += oof_cat / num_model_seed\n",
    "    prediction += prediction_cat / num_model_seed\n",
    "    \n",
    "    print(f'oof mse:{mean_squared_error(y, oof_cat)},oof mae:{mean_absolute_error(y,oof_cat)}')\n",
    "\n",
    "    \n",
    "print(\"*\" * 30)\n",
    "print('oof mse', mean_squared_error(y, oof))\n",
    "# print('oof mae',mean_absolute_error(y,oof_cat))"
   ]
  },
  {
   "cell_type": "code",
   "execution_count": 37,
   "metadata": {
    "ExecuteTime": {
     "end_time": "2020-08-11T11:31:24.011272Z",
     "start_time": "2020-08-11T11:31:23.751203Z"
    },
    "scrolled": false
   },
   "outputs": [
    {
     "data": {
      "text/plain": [
       "<matplotlib.axes._subplots.AxesSubplot at 0x1e2cc12f898>"
      ]
     },
     "execution_count": 37,
     "metadata": {},
     "output_type": "execute_result"
    },
    {
     "data": {
      "image/png": "[encoded data removed]",
      "text/plain": [
       "<Figure size 864x576 with 1 Axes>"
      ]
     },
     "metadata": {
      "needs_background": "light"
     },
     "output_type": "display_data"
    }
   ],
   "source": [
    "feature_importance.sort_values(['importance'],inplace=True,ascending=False)\n",
    "feature_importance=feature_importance.reset_index(drop=True)\n",
    "fig=plt.figure(figsize=(12,8))\n",
    "sns.barplot(x='importance',y='features',data=feature_importance)"
   ]
  },
  {
   "cell_type": "code",
   "execution_count": 38,
   "metadata": {
    "ExecuteTime": {
     "end_time": "2020-08-11T11:31:26.184775Z",
     "start_time": "2020-08-11T11:31:24.012272Z"
    }
   },
   "outputs": [],
   "source": [
    "test['loadingOrder']=test_id_time['loadingOrder']\n",
    "test['timestamp']=test_id_time['timestamp']\n",
    "# test['predict']=np.expm1(prediction)\n",
    "test['predict']=prediction\n",
    "\n",
    "predict_map={i:j for i,j in zip(test['loadingOrder'],test['predict'])}\n",
    "\n",
    "test['ETA']=(test['timestamp'] + test['predict'].apply(lambda x:pd.Timedelta(hours=x))).apply(lambda x:x.strftime('%Y/%m/%d  %H:%M:%S'))\n",
    "\n",
    "test=test.sort_values(['loadingOrder','timestamp'])\n",
    "\n",
    "test[['loadingOrder','timestamp','predict']].to_csv('./test_for_mnerge.csv',index=False)\n",
    "\n",
    "test_tail=test.groupby('loadingOrder').tail(1)\n",
    "test_head=test.groupby('loadingOrder').head(1)\n",
    "\n",
    "ETA_map_tail={i:j for i,j in zip(test_tail['loadingOrder'],test_tail['ETA'])}\n",
    "ETA_map_head={i:j for i,j in zip(test_head['loadingOrder'],test_head['ETA'])}\n",
    "\n",
    "sub['ETA'] = sub['loadingOrder'].map(ETA_map_tail)\n",
    "\n",
    "sub['creatDate'] = pd.datetime.now().strftime('%Y/%m/%d  %H:%M:%S')\n",
    "\n",
    "sub.to_csv('./output/sub_8-9-1_model719_b-5.csv',index=False)"
   ]
  },
  {
   "cell_type": "code",
   "execution_count": 39,
   "metadata": {
    "ExecuteTime": {
     "end_time": "2020-08-11T11:31:26.190777Z",
     "start_time": "2020-08-11T11:31:26.185775Z"
    }
   },
   "outputs": [
    {
     "name": "stdout",
     "output_type": "stream",
     "text": [
      "total time: 0.5329665099249946\n"
     ]
    }
   ],
   "source": [
    "time_e=time.time()\n",
    "print(\"total time:\",(time_e-time_s)/3600)"
   ]
  }
 ],
 "metadata": {
  "kernelspec": {
   "display_name": "Python 3",
   "language": "python",
   "name": "python3"
  },
  "language_info": {
   "codemirror_mode": {
    "name": "ipython",
    "version": 3
   },
   "file_extension": ".py",
   "mimetype": "text/x-python",
   "name": "python",
   "nbconvert_exporter": "python",
   "pygments_lexer": "ipython3",
   "version": "3.6.7"
  },
  "toc": {
   "base_numbering": 1,
   "nav_menu": {},
   "number_sections": true,
   "sideBar": true,
   "skip_h1_title": false,
   "title_cell": "Table of Contents",
   "title_sidebar": "Contents",
   "toc_cell": false,
   "toc_position": {
    "height": "calc(100% - 180px)",
    "left": "10px",
    "top": "150px",
    "width": "227.375px"
   },
   "toc_section_display": true,
   "toc_window_display": true
  },
  "varInspector": {
   "cols": {
    "lenName": 16,
    "lenType": 16,
    "lenVar": 40
   },
   "kernels_config": {
    "python": {
     "delete_cmd_postfix": "",
     "delete_cmd_prefix": "del ",
     "library": "var_list.py",
     "varRefreshCmd": "print(var_dic_list())"
    },
    "r": {
     "delete_cmd_postfix": ") ",
     "delete_cmd_prefix": "rm(",
     "library": "var_list.r",
     "varRefreshCmd": "cat(var_dic_list()) "
    }
   },
   "types_to_exclude": [
    "module",
    "function",
    "builtin_function_or_method",
    "instance",
    "_Feature"
   ],
   "window_display": false
  }
 },
 "nbformat": 4,
 "nbformat_minor": 4
}
